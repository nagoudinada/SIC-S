{
  "nbformat": 4,
  "nbformat_minor": 0,
  "metadata": {
    "kernelspec": {
      "display_name": "Python 3",
      "language": "python",
      "name": "python3"
    },
    "language_info": {
      "codemirror_mode": {
        "name": "ipython",
        "version": 3
      },
      "file_extension": ".py",
      "mimetype": "text/x-python",
      "name": "python",
      "nbconvert_exporter": "python",
      "pygments_lexer": "ipython3",
      "version": "3.7.3"
    },
    "colab": {
      "name": "ex_0508_1_F.ipynb",
      "provenance": []
    }
  },
  "cells": [
    {
      "cell_type": "markdown",
      "metadata": {
        "id": "WrE7vgtnCt6t"
      },
      "source": [
        "## Coding Exercise #0508"
      ]
    },
    {
      "cell_type": "markdown",
      "metadata": {
        "id": "f9UVEUSOCt60"
      },
      "source": [
        "### 1. Bagging ensemble:"
      ]
    },
    {
      "cell_type": "code",
      "metadata": {
        "id": "1NdHPXvMCt63"
      },
      "source": [
        "# Install once.\n",
        "# !pip install xgboost"
      ],
      "execution_count": 26,
      "outputs": []
    },
    {
      "cell_type": "code",
      "metadata": {
        "id": "WdjJMvypCt66"
      },
      "source": [
        "import numpy as np\n",
        "import pandas as pd\n",
        "import warnings \n",
        "import seaborn as sns\n",
        "import matplotlib.pyplot as plt\n",
        "from sklearn.model_selection import train_test_split,GridSearchCV\n",
        "from sklearn.tree import DecisionTreeClassifier\n",
        "from sklearn.ensemble import RandomForestClassifier,AdaBoostClassifier, GradientBoostingClassifier\n",
        "from xgboost import XGBClassifier\n",
        "from sklearn import metrics\n",
        "from sklearn.datasets import load_breast_cancer\n",
        "warnings.filterwarnings(action='ignore')                  # Turn off the warnings."
      ],
      "execution_count": 27,
      "outputs": []
    },
    {
      "cell_type": "markdown",
      "metadata": {
        "id": "gYT3yuLKCt68"
      },
      "source": [
        "#### 1.1. Read in data:"
      ]
    },
    {
      "cell_type": "code",
      "metadata": {
        "id": "_Lp5RP_WCt69"
      },
      "source": [
        "# Load data.\n",
        "data = load_breast_cancer()"
      ],
      "execution_count": 28,
      "outputs": []
    },
    {
      "cell_type": "code",
      "metadata": {
        "id": "nqjHSUHUCt6-",
        "colab": {
          "base_uri": "https://localhost:8080/"
        },
        "outputId": "edbb4c52-b32a-42db-aba2-1486c609505e"
      },
      "source": [
        "# Explanatory variables.\n",
        "X = data['data']\n",
        "variable_names = data['feature_names']\n",
        "print(variable_names)"
      ],
      "execution_count": 29,
      "outputs": [
        {
          "output_type": "stream",
          "text": [
            "['mean radius' 'mean texture' 'mean perimeter' 'mean area'\n",
            " 'mean smoothness' 'mean compactness' 'mean concavity'\n",
            " 'mean concave points' 'mean symmetry' 'mean fractal dimension'\n",
            " 'radius error' 'texture error' 'perimeter error' 'area error'\n",
            " 'smoothness error' 'compactness error' 'concavity error'\n",
            " 'concave points error' 'symmetry error' 'fractal dimension error'\n",
            " 'worst radius' 'worst texture' 'worst perimeter' 'worst area'\n",
            " 'worst smoothness' 'worst compactness' 'worst concavity'\n",
            " 'worst concave points' 'worst symmetry' 'worst fractal dimension']\n"
          ],
          "name": "stdout"
        }
      ]
    },
    {
      "cell_type": "code",
      "metadata": {
        "id": "7kROda45Ct7B",
        "colab": {
          "base_uri": "https://localhost:8080/"
        },
        "outputId": "7f27b69b-2d3e-4f47-b1f3-5b8d01538d6d"
      },
      "source": [
        "X.shape"
      ],
      "execution_count": 30,
      "outputs": [
        {
          "output_type": "execute_result",
          "data": {
            "text/plain": [
              "(569, 30)"
            ]
          },
          "metadata": {
            "tags": []
          },
          "execution_count": 30
        }
      ]
    },
    {
      "cell_type": "code",
      "metadata": {
        "id": "x8MNadYrCt7E",
        "colab": {
          "base_uri": "https://localhost:8080/"
        },
        "outputId": "60171a0b-14cc-4818-f432-02673a61b9bb"
      },
      "source": [
        "# Response variable.\n",
        "# Relabel such that 0 = 'benign' and 1 = malignant.\n",
        "Y = 1 - data['target']\n",
        "label = list(data['target_names'])\n",
        "label.reverse()\n",
        "print(label)"
      ],
      "execution_count": 31,
      "outputs": [
        {
          "output_type": "stream",
          "text": [
            "['benign', 'malignant']\n"
          ],
          "name": "stdout"
        }
      ]
    },
    {
      "cell_type": "code",
      "metadata": {
        "id": "HqFt-c7CCt7L"
      },
      "source": [
        "X_train, X_test, Y_train, Y_test = train_test_split(X, Y, test_size=0.3, random_state=1234)"
      ],
      "execution_count": 32,
      "outputs": []
    },
    {
      "cell_type": "markdown",
      "metadata": {
        "id": "QMgmuK8MCt7N"
      },
      "source": [
        "#### 1.2. Random Forest:"
      ]
    },
    {
      "cell_type": "code",
      "metadata": {
        "id": "I8QChaZECt7O",
        "colab": {
          "base_uri": "https://localhost:8080/"
        },
        "outputId": "bf609ce6-69a9-4081-c5be-5a428279be3a"
      },
      "source": [
        "# Classification by Random Forest.\n",
        "RFC = RandomForestClassifier(n_estimators=100,max_depth=5,min_samples_leaf=2,random_state=123)\n",
        "RFC.fit(X_train, Y_train)\n",
        "Y_pred = RFC.predict(X_test)\n",
        "print( \"Random Forest accuracy : \" + str(np.round(metrics.accuracy_score(Y_test,Y_pred),3)))"
      ],
      "execution_count": 33,
      "outputs": [
        {
          "output_type": "stream",
          "text": [
            "Random Forest accuracy : 0.924\n"
          ],
          "name": "stdout"
        }
      ]
    },
    {
      "cell_type": "code",
      "metadata": {
        "id": "bvZXUk80Ct7O",
        "colab": {
          "base_uri": "https://localhost:8080/",
          "height": 265
        },
        "outputId": "9cf60457-699d-47ab-c49a-f19da84237f7"
      },
      "source": [
        "# Display the top 10 most important variables.\n",
        "variable_importance = pd.Series(RFC.feature_importances_, index = variable_names)\n",
        "top_variables_10 = variable_importance.sort_values(ascending=False)[:10]\n",
        "sns.barplot(x=top_variables_10.values, y = top_variables_10.index, ci=None)\n",
        "plt.show()"
      ],
      "execution_count": 34,
      "outputs": [
        {
          "output_type": "display_data",
          "data": {
            "image/png": "[encoded data removed]",
            "text/plain": [
              "<Figure size 432x288 with 1 Axes>"
            ]
          },
          "metadata": {
            "tags": [],
            "needs_background": "light"
          }
        }
      ]
    },
    {
      "cell_type": "markdown",
      "metadata": {
        "id": "57uhSkAPCt7P"
      },
      "source": [
        "### 2. Boosting Ensemble:"
      ]
    },
    {
      "cell_type": "markdown",
      "metadata": {
        "id": "3oxESkHpCt7Q"
      },
      "source": [
        "#### 2.1.  AdaBoost:\n",
        "\n",
        "Question 1 : Classification by AdaBoost use AdaBoostClassifier(base_estimator=DecisionTreeClassifier(max_depth=10),n_estimators=100,learning_rate=0.01,random_state=123) then fit your training data."
      ]
    },
    {
      "cell_type": "code",
      "metadata": {
        "id": "zQbd-F09Ct7R",
        "colab": {
          "base_uri": "https://localhost:8080/"
        },
        "outputId": "1d7faf1e-6775-45d9-9c73-a2ad35d0ac15"
      },
      "source": [
        "# Classification by AdaBoost.\n",
        "\n",
        "ABC = AdaBoostClassifier(n_estimators=100, random_state=0)\n",
        "ABC.fit(X_train, Y_train)\n",
        "AdaBoostClassifier(n_estimators=100, random_state=0)\n",
        "Y_pred = ABC.predict(X_test)\n",
        "print( \"AdaBoost accuracy : \" + str(np.round(metrics.accuracy_score(Y_test,Y_pred),3)))"
      ],
      "execution_count": 35,
      "outputs": [
        {
          "output_type": "stream",
          "text": [
            "AdaBoost accuracy : 0.93\n"
          ],
          "name": "stdout"
        }
      ]
    },
    {
      "cell_type": "code",
      "metadata": {
        "id": "SweqWXzyCt7S",
        "colab": {
          "base_uri": "https://localhost:8080/",
          "height": 265
        },
        "outputId": "58b3f0b6-e69b-4c93-c6a3-1bd5dc84550f"
      },
      "source": [
        "# Display the top 10 most important variables.\n",
        "variable_importance = pd.Series(ABC.feature_importances_, index = variable_names)\n",
        "top_variables_10 = variable_importance.sort_values(ascending=False)[:10]\n",
        "sns.barplot(x=top_variables_10.values, y = top_variables_10.index, ci=None)\n",
        "plt.show()"
      ],
      "execution_count": 36,
      "outputs": [
        {
          "output_type": "display_data",
          "data": {
            "image/png": "[encoded data removed]",
            "text/plain": [
              "<Figure size 432x288 with 1 Axes>"
            ]
          },
          "metadata": {
            "tags": [],
            "needs_background": "light"
          }
        }
      ]
    },
    {
      "cell_type": "markdown",
      "metadata": {
        "id": "pdtAb7FRCt7T"
      },
      "source": [
        "#### 2.2.  Gradient Boosting: \n",
        "\n",
        "Question 2: Use Gradient Boosting to classify your data set the parameters to : n_estimators=100,learning_rate=0.01,min_samples_leaf=2,max_leaf_nodes=30,random_state=123"
      ]
    },
    {
      "cell_type": "code",
      "metadata": {
        "id": "Ebou8o9ACt7U",
        "colab": {
          "base_uri": "https://localhost:8080/"
        },
        "outputId": "ed588d53-9abf-4e38-afed-00c9bad3eb67"
      },
      "source": [
        "# Classification by Gradient Boosting.\n",
        "\n",
        "GBC = GradientBoostingClassifier(n_estimators=100, learning_rate=0.01, min_samples_leaf=2, max_leaf_nodes=30, random_state=123)\n",
        "\n",
        "GBC.fit(X_train, Y_train)\n",
        "Y_pred = GBC.predict(X_test)\n",
        "print( \"Gradient Boosting accuracy : \" + str(np.round(metrics.accuracy_score(Y_test,Y_pred),3)))"
      ],
      "execution_count": 37,
      "outputs": [
        {
          "output_type": "stream",
          "text": [
            "Gradient Boosting accuracy : 0.906\n"
          ],
          "name": "stdout"
        }
      ]
    },
    {
      "cell_type": "code",
      "metadata": {
        "id": "DotoNu1aCt7U",
        "colab": {
          "base_uri": "https://localhost:8080/",
          "height": 265
        },
        "outputId": "52a3078e-17f0-4645-b23c-1389a5c74771"
      },
      "source": [
        "# Display the top 10 most important variables.\n",
        "variable_importance = pd.Series(GBC.feature_importances_, index = variable_names)\n",
        "top_variables_10 = variable_importance.sort_values(ascending=False)[:10]\n",
        "sns.barplot(x=top_variables_10.values, y = top_variables_10.index, ci=None)\n",
        "plt.show()"
      ],
      "execution_count": 38,
      "outputs": [
        {
          "output_type": "display_data",
          "data": {
            "image/png": "[encoded data removed]",
            "text/plain": [
              "<Figure size 432x288 with 1 Axes>"
            ]
          },
          "metadata": {
            "tags": [],
            "needs_background": "light"
          }
        }
      ]
    },
    {
      "cell_type": "markdown",
      "metadata": {
        "id": "CqrqB_uACt7V"
      },
      "source": [
        "#### 2.3. XGBoost\n",
        "\n",
        "\n",
        "Question 3 : Use XGBoost to classify your data, set your parametrs to : n_estimator = 500, learning_Rate = 0.1, max_depth = 4, random_state=123"
      ]
    },
    {
      "cell_type": "code",
      "metadata": {
        "id": "jNn1uWVFCt7V",
        "colab": {
          "base_uri": "https://localhost:8080/"
        },
        "outputId": "55f3c1d4-bf07-4d89-ea97-57833f11febd"
      },
      "source": [
        "# Classification by XGBoost.\n",
        "XGB = XGBClassifier()\n",
        "XGB.fit(X_train, Y_train)\n",
        "Y_pred = XGB.predict(X_test)\n",
        "print( \"XGBoost accuracy : \" + str(np.round(metrics.accuracy_score(Y_test,Y_pred),3)))"
      ],
      "execution_count": 39,
      "outputs": [
        {
          "output_type": "stream",
          "text": [
            "XGBoost accuracy : 0.93\n"
          ],
          "name": "stdout"
        }
      ]
    },
    {
      "cell_type": "code",
      "metadata": {
        "id": "JHVGZTWQCt7W",
        "colab": {
          "base_uri": "https://localhost:8080/",
          "height": 265
        },
        "outputId": "60774635-e875-4004-ef4c-1cf4a906861a"
      },
      "source": [
        "# Display the top 10 most important variables.\n",
        "variable_importance = pd.Series(XGB.feature_importances_, index = variable_names)\n",
        "top_variables_10 = variable_importance.sort_values(ascending=False)[:10]\n",
        "sns.barplot(x=top_variables_10.values, y = top_variables_10.index, ci=None)\n",
        "plt.show()"
      ],
      "execution_count": 40,
      "outputs": [
        {
          "output_type": "display_data",
          "data": {
            "image/png": "[encoded data removed]",
            "text/plain": [
              "<Figure size 432x288 with 1 Axes>"
            ]
          },
          "metadata": {
            "tags": [],
            "needs_background": "light"
          }
        }
      ]
    },
    {
      "cell_type": "markdown",
      "metadata": {
        "id": "WAtGdAC0Ct7W"
      },
      "source": [
        "NOTE: The hyperparameters of XGBClassifier can be optimized using GridSearchCV() and RandomSearchCV(). Students are encouraged to explore. "
      ]
    }
  ]
}