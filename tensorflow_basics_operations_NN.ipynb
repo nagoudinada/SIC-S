{
  "nbformat": 4,
  "nbformat_minor": 0,
  "metadata": {
    "colab": {
      "name": "tensorflow_basics_operations_NN.ipynb",
      "provenance": []
    },
    "kernelspec": {
      "display_name": "Python 3",
      "language": "python",
      "name": "python3"
    },
    "language_info": {
      "codemirror_mode": {
        "name": "ipython",
        "version": 3
      },
      "file_extension": ".py",
      "mimetype": "text/x-python",
      "name": "python",
      "nbconvert_exporter": "python",
      "pygments_lexer": "ipython3",
      "version": "3.7.6"
    },
    "toc": {
      "base_numbering": 1,
      "nav_menu": {},
      "number_sections": true,
      "sideBar": true,
      "skip_h1_title": false,
      "title_cell": "Table of Contents",
      "title_sidebar": "Contents",
      "toc_cell": false,
      "toc_position": {},
      "toc_section_display": true,
      "toc_window_display": false
    },
    "varInspector": {
      "cols": {
        "lenName": 16,
        "lenType": 16,
        "lenVar": 40
      },
      "kernels_config": {
        "python": {
          "delete_cmd_postfix": "",
          "delete_cmd_prefix": "del ",
          "library": "var_list.py",
          "varRefreshCmd": "print(var_dic_list())"
        },
        "r": {
          "delete_cmd_postfix": ") ",
          "delete_cmd_prefix": "rm(",
          "library": "var_list.r",
          "varRefreshCmd": "cat(var_dic_list()) "
        }
      },
      "types_to_exclude": [
        "module",
        "function",
        "builtin_function_or_method",
        "instance",
        "_Feature"
      ],
      "window_display": false
    }
  },
  "cells": [
    {
      "cell_type": "markdown",
      "metadata": {
        "id": "5HyoCUKmJ_52"
      },
      "source": [
        "# TensorFlow basics:"
      ]
    },
    {
      "cell_type": "code",
      "metadata": {
        "id": "dmpRH82IJ_6C"
      },
      "source": [
        "#Steps to reproduce:\n",
        "\n",
        "#Installation:\n",
        "\n",
        "#pip install --upgrade pip\n",
        "#!pip install tensorflow==2.0.0-alpha0\n",
        "#or\n",
        "# !pip install tensorflow\n",
        "# OR\n",
        "# !pip install --user tensorflow-gpu"
      ],
      "execution_count": null,
      "outputs": []
    },
    {
      "cell_type": "code",
      "metadata": {
        "ExecuteTime": {
          "end_time": "2021-08-27T12:27:44.159839Z",
          "start_time": "2021-08-27T12:27:44.145847Z"
        },
        "id": "4wXgRygmJ_6G"
      },
      "source": [
        "import warnings\n",
        "warnings.filterwarnings('ignore')\n",
        "import tensorflow.compat.v1 as tf\n",
        "tf.compat.v1.disable_eager_execution()\n",
        "import numpy as np"
      ],
      "execution_count": 2,
      "outputs": []
    },
    {
      "cell_type": "markdown",
      "metadata": {
        "id": "_uV2U-Y8J_6H"
      },
      "source": [
        "## Hello World!"
      ]
    },
    {
      "cell_type": "code",
      "metadata": {
        "ExecuteTime": {
          "end_time": "2021-08-27T12:28:06.997298Z",
          "start_time": "2021-08-27T12:28:05.032450Z"
        },
        "colab": {
          "base_uri": "https://localhost:8080/"
        },
        "id": "l6ENOED_J_6I",
        "outputId": "c47bbdec-bc3e-4b00-e9da-411efb917c71"
      },
      "source": [
        "hello = tf.constant(\"Hello World!\")\n",
        "with tf.Session() as sess:\n",
        "    print(sess.run(hello))"
      ],
      "execution_count": 3,
      "outputs": [
        {
          "output_type": "stream",
          "name": "stdout",
          "text": [
            "b'Hello World!'\n"
          ]
        }
      ]
    },
    {
      "cell_type": "markdown",
      "metadata": {
        "id": "1FOhOCWHJ_6K"
      },
      "source": [
        "## Creating tensors:"
      ]
    },
    {
      "cell_type": "code",
      "metadata": {
        "id": "jXwQkr0zJ_6L"
      },
      "source": [
        "hello = tf.constant(\"Hello World!\")                         # String.\n",
        "const_scalar = tf.constant(7)                               # A scalar tensor.\n",
        "const_matrix = tf.constant([[1,2], [3,4]])                  # A matrix tensor.\n",
        "mat_fill = tf.fill((4,4),9)                                 # A 4x4 tensor filled with 9s.\n",
        "mat_zeros = tf.zeros((3,3))                                 # A 3x3 tensor filled with 0s.\n",
        "mat_ones = tf.ones((5,5))                                   # A 5x5 tensor filled with 1s.\n",
        "mat_randn = tf.random_normal((3,3), mean=0, stddev=1.0)     # 3x3 random normal tensor.\n",
        "mat_randu = tf.random_uniform((4,4), minval=0, maxval=1.0)  # 4x4 random uniform tensor."
      ],
      "execution_count": 4,
      "outputs": []
    },
    {
      "cell_type": "code",
      "metadata": {
        "id": "VD7nblXDJ_6O",
        "colab": {
          "base_uri": "https://localhost:8080/"
        },
        "outputId": "4c9fec03-a1ac-4faa-dc3b-e9527b02ad86"
      },
      "source": [
        "my_ops=[hello, const_scalar, const_matrix, mat_fill, mat_zeros, mat_ones, mat_randn, mat_randu]\n",
        "with tf.Session() as sess:\n",
        "    for op in my_ops:\n",
        "        res = sess.run(op)\n",
        "        print(type(res))\n",
        "        print('\\n')\n",
        "        print(res)\n",
        "        print('\\n')"
      ],
      "execution_count": 5,
      "outputs": [
        {
          "output_type": "stream",
          "name": "stdout",
          "text": [
            "<class 'bytes'>\n",
            "\n",
            "\n",
            "b'Hello World!'\n",
            "\n",
            "\n",
            "<class 'numpy.int32'>\n",
            "\n",
            "\n",
            "7\n",
            "\n",
            "\n",
            "<class 'numpy.ndarray'>\n",
            "\n",
            "\n",
            "[[1 2]\n",
            " [3 4]]\n",
            "\n",
            "\n",
            "<class 'numpy.ndarray'>\n",
            "\n",
            "\n",
            "[[9 9 9 9]\n",
            " [9 9 9 9]\n",
            " [9 9 9 9]\n",
            " [9 9 9 9]]\n",
            "\n",
            "\n",
            "<class 'numpy.ndarray'>\n",
            "\n",
            "\n",
            "[[0. 0. 0.]\n",
            " [0. 0. 0.]\n",
            " [0. 0. 0.]]\n",
            "\n",
            "\n",
            "<class 'numpy.ndarray'>\n",
            "\n",
            "\n",
            "[[1. 1. 1. 1. 1.]\n",
            " [1. 1. 1. 1. 1.]\n",
            " [1. 1. 1. 1. 1.]\n",
            " [1. 1. 1. 1. 1.]\n",
            " [1. 1. 1. 1. 1.]]\n",
            "\n",
            "\n",
            "<class 'numpy.ndarray'>\n",
            "\n",
            "\n",
            "[[-2.66253    -0.49062663 -0.7210616 ]\n",
            " [ 1.9958326  -0.32988474  0.8111852 ]\n",
            " [ 0.06666844  0.9022085   0.23498912]]\n",
            "\n",
            "\n",
            "<class 'numpy.ndarray'>\n",
            "\n",
            "\n",
            "[[0.25093925 0.70829976 0.86149156 0.40779722]\n",
            " [0.2938372  0.09105074 0.8902552  0.43755865]\n",
            " [0.82638705 0.87730527 0.99109685 0.12194335]\n",
            " [0.3866434  0.8824408  0.5578474  0.88460743]]\n",
            "\n",
            "\n"
          ]
        }
      ]
    },
    {
      "cell_type": "markdown",
      "metadata": {
        "id": "sKBeb0wfJ_6R"
      },
      "source": [
        "## Math operations:"
      ]
    },
    {
      "cell_type": "markdown",
      "metadata": {
        "id": "CHvbejqhJ_6T"
      },
      "source": [
        "create two scalars ``n1`` and ``n2``  using ``tf.constant`` with any value of your choice and do the following operations: \n",
        "- **multplication** using ``tf.multiply`` and ``*``\n",
        "- **addition** using ``tf.add`` and ``+``\n",
        "- **pow** using ``tf.pow``\n",
        "\n",
        "save each operation in a variable and run them using :\n",
        "\n",
        "``\n",
        "with tf.Session() as sess:\n",
        "    sess.run(...)\n",
        "    ...\n",
        "``    "
      ]
    },
    {
      "cell_type": "code",
      "metadata": {
        "id": "-3ULdoywJ_6U",
        "colab": {
          "base_uri": "https://localhost:8080/"
        },
        "outputId": "cff0baf9-2651-4168-f7bb-effbd44001c1"
      },
      "source": [
        "n1 = tf.constant(1)\n",
        "n2 = tf.constant(2)\n",
        "n3 = n1* n2\n",
        "with tf.Session() as sess:\n",
        "    print(sess.run(n3))"
      ],
      "execution_count": 6,
      "outputs": [
        {
          "output_type": "stream",
          "name": "stdout",
          "text": [
            "2\n"
          ]
        }
      ]
    },
    {
      "cell_type": "code",
      "metadata": {
        "id": "uYl8CUM_J_6V",
        "colab": {
          "base_uri": "https://localhost:8080/"
        },
        "outputId": "60d41f3a-02ad-4546-9c31-d917c03d972f"
      },
      "source": [
        "n1 = tf.constant(4)\n",
        "n2 = tf.constant(5)\n",
        "n3 = tf.add(n1,n2)\n",
        "with tf.Session() as sess:\n",
        "    print(sess.run(n3))"
      ],
      "execution_count": 7,
      "outputs": [
        {
          "output_type": "stream",
          "name": "stdout",
          "text": [
            "9\n"
          ]
        }
      ]
    },
    {
      "cell_type": "code",
      "metadata": {
        "id": "uq3T1FNfJ_6W",
        "colab": {
          "base_uri": "https://localhost:8080/"
        },
        "outputId": "0452fefc-9a06-453b-c450-55b4094b9dc7"
      },
      "source": [
        "n1 = tf.constant(2)\n",
        "n2 = tf.constant(3)\n",
        "n3 = tf.multiply(n1,n2)\n",
        "with tf.Session() as sess:\n",
        "    print(sess.run(n3))"
      ],
      "execution_count": 8,
      "outputs": [
        {
          "output_type": "stream",
          "name": "stdout",
          "text": [
            "6\n"
          ]
        }
      ]
    },
    {
      "cell_type": "code",
      "metadata": {
        "id": "2QMyKZUFJ_6X",
        "colab": {
          "base_uri": "https://localhost:8080/"
        },
        "outputId": "9e4bc500-a583-4614-b371-0565ca31c9ed"
      },
      "source": [
        "n1 = tf.constant(2)\n",
        "n2 = tf.constant(3)\n",
        "n3 = tf.pow(n1,n2)\n",
        "with tf.Session() as sess:\n",
        "    print(sess.run(n3))"
      ],
      "execution_count": 9,
      "outputs": [
        {
          "output_type": "stream",
          "name": "stdout",
          "text": [
            "8\n"
          ]
        }
      ]
    },
    {
      "cell_type": "markdown",
      "metadata": {
        "id": "mtAp_7RFJ_6Y"
      },
      "source": [
        "## Matrix functions and operations:"
      ]
    },
    {
      "cell_type": "markdown",
      "metadata": {
        "id": "MkhTIzF2J_6Y"
      },
      "source": [
        "create two variables ``tf.constant([[1,2], [3,4]])`` and ``tf.constant([[5, 6], [7, 8]])``\n",
        "then perfom ``tf.matmul`` and ``tf.multiply``.\n",
        "- run them using session.run() (just like the previous example)\n",
        "- conclude the difference between the two operations"
      ]
    },
    {
      "cell_type": "code",
      "metadata": {
        "id": "TFESDvd5J_6Y",
        "colab": {
          "base_uri": "https://localhost:8080/"
        },
        "outputId": "75d8f779-7b29-4c91-a500-bafa9fbdccd0"
      },
      "source": [
        "m1 = tf.constant([[1,2], [3,4]])\n",
        "m2 = tf.constant([[1], [2]])\n",
        "m3 = tf.matmul(m1, m2)                            # Matrix multiplication. Different from the element-wise multiplication with multiply().\n",
        "with tf.Session() as sess:\n",
        "    print(sess.run(m3))"
      ],
      "execution_count": 10,
      "outputs": [
        {
          "output_type": "stream",
          "name": "stdout",
          "text": [
            "[[ 5]\n",
            " [11]]\n"
          ]
        }
      ]
    },
    {
      "cell_type": "code",
      "metadata": {
        "ExecuteTime": {
          "end_time": "2021-08-27T12:56:20.191710Z",
          "start_time": "2021-08-27T12:56:20.157729Z"
        },
        "id": "qVkLKdusJ_6Z",
        "colab": {
          "base_uri": "https://localhost:8080/"
        },
        "outputId": "4b5dc53d-b3ab-4896-8bce-6d41fd1bad71"
      },
      "source": [
        "m1 = tf.constant([[1,2], [3,4]])\n",
        "m2 = tf.constant([[5, 6], [7, 8]])\n",
        "print(m1.shape)\n",
        "print(m1)\n",
        "print(m2)\n",
        "m3 = tf.matmul(m1, m2) # rows×columns\n",
        "with tf.Session() as sess:\n",
        "    print(sess.run(m1))\n",
        "    print(sess.run(m2))\n",
        "    print(sess.run(m3))"
      ],
      "execution_count": 11,
      "outputs": [
        {
          "output_type": "stream",
          "name": "stdout",
          "text": [
            "(2, 2)\n",
            "Tensor(\"Const_14:0\", shape=(2, 2), dtype=int32)\n",
            "Tensor(\"Const_15:0\", shape=(2, 2), dtype=int32)\n",
            "[[1 2]\n",
            " [3 4]]\n",
            "[[5 6]\n",
            " [7 8]]\n",
            "[[19 22]\n",
            " [43 50]]\n"
          ]
        }
      ]
    },
    {
      "cell_type": "code",
      "metadata": {
        "ExecuteTime": {
          "end_time": "2021-08-27T12:57:00.207520Z",
          "start_time": "2021-08-27T12:57:00.041239Z"
        },
        "id": "cLtGW-PrJ_6d",
        "colab": {
          "base_uri": "https://localhost:8080/"
        },
        "outputId": "bfef3d09-2695-46df-981e-d5fe6d37a59e"
      },
      "source": [
        "m3 = tf.multiply(m1, m2)\n",
        "with tf.Session() as sess:\n",
        "    print(sess.run(m3))"
      ],
      "execution_count": 12,
      "outputs": [
        {
          "output_type": "stream",
          "name": "stdout",
          "text": [
            "[[ 5 12]\n",
            " [21 32]]\n"
          ]
        }
      ]
    },
    {
      "cell_type": "code",
      "metadata": {
        "id": "SLAgTOKzJ_6e",
        "colab": {
          "base_uri": "https://localhost:8080/"
        },
        "outputId": "75c3c354-6ceb-484f-b204-9a5e5143ac39"
      },
      "source": [
        "m3 = m1*m2\n",
        "with tf.Session() as sess:\n",
        "    print(sess.run(m3))"
      ],
      "execution_count": 13,
      "outputs": [
        {
          "output_type": "stream",
          "name": "stdout",
          "text": [
            "[[ 5 12]\n",
            " [21 32]]\n"
          ]
        }
      ]
    },
    {
      "cell_type": "markdown",
      "metadata": {
        "id": "Mpc4KtssJ_6f"
      },
      "source": [
        "perform also ``+`` , ``-`` , ``/`` , use round with the last operation with 3 decimal places after comma."
      ]
    },
    {
      "cell_type": "code",
      "metadata": {
        "id": "oFMNYGVzJ_6f",
        "colab": {
          "base_uri": "https://localhost:8080/"
        },
        "outputId": "ce3920c1-6fe1-4d7e-bf22-082a70cdaa5d"
      },
      "source": [
        "m3 = m1 + m2\n",
        "with tf.Session() as sess:\n",
        "    print(sess.run(m3))"
      ],
      "execution_count": 14,
      "outputs": [
        {
          "output_type": "stream",
          "name": "stdout",
          "text": [
            "[[ 6  8]\n",
            " [10 12]]\n"
          ]
        }
      ]
    },
    {
      "cell_type": "code",
      "metadata": {
        "id": "2Z1HxMxdJ_6f",
        "colab": {
          "base_uri": "https://localhost:8080/"
        },
        "outputId": "873f1862-3a1d-46c0-a55d-c83ecbe09fb2"
      },
      "source": [
        "m3 = m1-m2\n",
        "with tf.Session() as sess:\n",
        "    print(sess.run(m3))"
      ],
      "execution_count": 15,
      "outputs": [
        {
          "output_type": "stream",
          "name": "stdout",
          "text": [
            "[[-4 -4]\n",
            " [-4 -4]]\n"
          ]
        }
      ]
    },
    {
      "cell_type": "code",
      "metadata": {
        "id": "Kc1q0UedJ_6g",
        "colab": {
          "base_uri": "https://localhost:8080/"
        },
        "outputId": "80cd1e8f-61d1-4b7c-ae9b-af189c3965fb"
      },
      "source": [
        "m3 = m1 / m2\n",
        "with tf.Session() as sess:\n",
        "    print(np.round(sess.run(m3),3))"
      ],
      "execution_count": 16,
      "outputs": [
        {
          "output_type": "stream",
          "name": "stdout",
          "text": [
            "[[0.2   0.333]\n",
            " [0.429 0.5  ]]\n"
          ]
        }
      ]
    },
    {
      "cell_type": "markdown",
      "metadata": {
        "id": "ylvS4G51J_6g"
      },
      "source": [
        "here are some other operations you can do using constant variables"
      ]
    },
    {
      "cell_type": "code",
      "metadata": {
        "id": "HSfGVIbHJ_6g",
        "colab": {
          "base_uri": "https://localhost:8080/"
        },
        "outputId": "d3c30b9a-beb2-4e07-9ca7-aa62c8682286"
      },
      "source": [
        "# Matrix functions.\n",
        "m = tf.constant([[1.0,2.0],[3.0,4.0]])\n",
        "m_diagonal = tf.matrix_diag([1,2,3])\n",
        "m_transpose = tf.matrix_transpose(m)\n",
        "m_inverse = tf.matrix_inverse(m)\n",
        "m_multiplied = tf.matmul(m, m_inverse)\n",
        "m_determinant = tf.matrix_determinant(m)\n",
        "my_matrices = [m, m_diagonal, m_transpose, m_inverse, m_multiplied, m_determinant]\n",
        "with tf.Session() as sess:\n",
        "    for mat in my_matrices:\n",
        "        res = sess.run(mat)\n",
        "        print(np.round(res,3))\n",
        "        print('\\n')"
      ],
      "execution_count": 17,
      "outputs": [
        {
          "output_type": "stream",
          "name": "stdout",
          "text": [
            "[[1. 2.]\n",
            " [3. 4.]]\n",
            "\n",
            "\n",
            "[[1 0 0]\n",
            " [0 2 0]\n",
            " [0 0 3]]\n",
            "\n",
            "\n",
            "[[1. 3.]\n",
            " [2. 4.]]\n",
            "\n",
            "\n",
            "[[-2.   1. ]\n",
            " [ 1.5 -0.5]]\n",
            "\n",
            "\n",
            "[[ 1.  0.]\n",
            " [-0.  1.]]\n",
            "\n",
            "\n",
            "-2.0\n",
            "\n",
            "\n"
          ]
        }
      ]
    },
    {
      "cell_type": "markdown",
      "metadata": {
        "id": "DcOoL_PcJ_6h"
      },
      "source": [
        "## TensorFlow Variable:"
      ]
    },
    {
      "cell_type": "markdown",
      "metadata": {
        "id": "-7ds2K5bJ_6h"
      },
      "source": [
        "there are threee way to initialize your variables"
      ]
    },
    {
      "cell_type": "code",
      "metadata": {
        "id": "kKA6QUf3J_6h",
        "colab": {
          "base_uri": "https://localhost:8080/"
        },
        "outputId": "66a8301f-bc2d-4100-b48e-0c284fc56eb5"
      },
      "source": [
        "# Initializing Variables #1\n",
        "x = tf.Variable(initial_value=5, name='x')       # Define.\n",
        "y = tf.Variable(initial_value=6, name='y')       # Define.\n",
        "f = (x - y)*y + 3                                # Define.\n",
        "sess = tf.Session()\n",
        "sess.run(x.initializer)                          # Initialize.\n",
        "sess.run(y.initializer)                          # Initialize. \n",
        "res = sess.run(f)  \n",
        "print(res)\n",
        "sess.close()"
      ],
      "execution_count": 18,
      "outputs": [
        {
          "output_type": "stream",
          "name": "stdout",
          "text": [
            "-3\n"
          ]
        }
      ]
    },
    {
      "cell_type": "code",
      "metadata": {
        "id": "xuBNlACsJ_6i",
        "colab": {
          "base_uri": "https://localhost:8080/"
        },
        "outputId": "6181eddf-f1fd-44f1-987a-df7908320342"
      },
      "source": [
        "# Initializing Variables #2\n",
        "x = tf.Variable(initial_value=3, name='x')       # Define.\n",
        "y = tf.Variable(initial_value=2, name='y')       # Define.\n",
        "f = x*y + y + 3                                  # Define.\n",
        "with tf.Session() as sess:\n",
        "    x.initializer.run()                          # Initialize. The same as \"sess.run(x.initializer)\".\n",
        "    y.initializer.run()                          # Initialize. The same as \"sess.run(y.initializer)\".\n",
        "    res = f.eval()                               # The same as \"res = sess.run(f)\".\n",
        "print(res)"
      ],
      "execution_count": 19,
      "outputs": [
        {
          "output_type": "stream",
          "name": "stdout",
          "text": [
            "11\n"
          ]
        }
      ]
    },
    {
      "cell_type": "markdown",
      "metadata": {
        "id": "H3pL96FZJ_6j"
      },
      "source": [
        "the following initialization method is the widely used "
      ]
    },
    {
      "cell_type": "code",
      "metadata": {
        "id": "eJ_-bm_jJ_6j",
        "colab": {
          "base_uri": "https://localhost:8080/"
        },
        "outputId": "b43d772c-6d43-4494-8c37-779809f15cc9"
      },
      "source": [
        "# Initializing Variables #3\n",
        "x = tf.Variable(initial_value=7, name='x')       # Define.\n",
        "y = tf.Variable(initial_value=3, name='y')       # Define.\n",
        "f = x*y*y - y - 1                                # Define.\n",
        "init = tf.global_variables_initializer()         # will go through all variables and initialize them \n",
        "with tf.Session() as sess:\n",
        "    sess.run(init)                               # Initialize wil happen after running sess.run(init).\n",
        "    res = f.eval()                               # The same as \"res = sess.run(f)\".\n",
        "print(res)"
      ],
      "execution_count": 20,
      "outputs": [
        {
          "output_type": "stream",
          "name": "stdout",
          "text": [
            "59\n"
          ]
        }
      ]
    },
    {
      "cell_type": "markdown",
      "metadata": {
        "id": "0wdjwPnvJ_6k"
      },
      "source": [
        "- create ``my_tensor`` using tf.random_uniform of shape ``(4,4)`` of zero mean and 1 std\n",
        "- create ``my_var`` using ``tf.Variable`` with an initial value ``my_tensor``\n",
        "- run a global initializer using ``tf.global_variables_initializer`` and store it in ``init``\n",
        "- start a session as usual and run ``init`` to initialize your variables "
      ]
    },
    {
      "cell_type": "code",
      "metadata": {
        "id": "ov8yOmD_J_6k",
        "colab": {
          "base_uri": "https://localhost:8080/"
        },
        "outputId": "f084efd0-56ff-4740-d63a-bf4a881dcf5d"
      },
      "source": [
        "my_tensor = tf.random_uniform((4,4),0,1)\n",
        "my_var = tf.Variable(initial_value = my_tensor)                  # Initial value from a tensor.\n",
        "#my_matrix = np.random.uniform(0,1,(4,4))\n",
        "#my_var = tf.Variable(initial_value = my_matrix)                  # Initial value from a Numpy array.\n",
        "init = tf.global_variables_initializer()\n",
        "with tf.Session() as sess:\n",
        "    sess.run(init)                                               \n",
        "    print(sess.run(my_var))"
      ],
      "execution_count": 21,
      "outputs": [
        {
          "output_type": "stream",
          "name": "stdout",
          "text": [
            "[[0.29045868 0.01169014 0.44028783 0.4711765 ]\n",
            " [0.8589295  0.18977165 0.5858879  0.3032074 ]\n",
            " [0.840227   0.83634317 0.5731003  0.01872683]\n",
            " [0.34343147 0.4539262  0.6559149  0.25526953]]\n"
          ]
        }
      ]
    },
    {
      "cell_type": "markdown",
      "metadata": {
        "id": "n-ZfxuDLJ_6l"
      },
      "source": [
        "## TensorFlow Placeholder"
      ]
    },
    {
      "cell_type": "markdown",
      "metadata": {
        "id": "YVAjNm9LJ_6l"
      },
      "source": [
        "placeholders are different , they got initialized through run function using the ``feed_dict``.\n",
        "\n",
        "**usage :** imagine a placeholder as booking a table at a restaurant ,in our case the guests are the input , you guessed it right **placeholders are used for input data** one cool property of placeholders is that you don't need to set number of observations\n",
        "<br>\n",
        "\n",
        "here's an example :"
      ]
    },
    {
      "cell_type": "code",
      "metadata": {
        "id": "_BZ15gckJ_6l",
        "colab": {
          "base_uri": "https://localhost:8080/"
        },
        "outputId": "d49262aa-fbe4-4951-e7b8-3e58c33c8fc5"
      },
      "source": [
        "a = tf.placeholder(tf.float32)\n",
        "b = tf.placeholder(tf.float32)\n",
        "y = tf.multiply(a, b)\n",
        "with tf.Session() as sess:\n",
        "    res = sess.run(y, feed_dict={a:2, b:3})           # Feed the actual valules.\n",
        "    print(res)"
      ],
      "execution_count": 22,
      "outputs": [
        {
          "output_type": "stream",
          "name": "stdout",
          "text": [
            "6.0\n"
          ]
        }
      ]
    },
    {
      "cell_type": "code",
      "metadata": {
        "id": "bw9BSsxZJ_6m",
        "colab": {
          "base_uri": "https://localhost:8080/"
        },
        "outputId": "6ff50720-f911-461a-ad8b-087328f23be4"
      },
      "source": [
        "# Simulated data as NumPy array.\n",
        "np.random.seed(123)\n",
        "X1 = np.random.uniform(0.0, 1.0, (3,3))\n",
        "X2 = np.random.normal(0.0, 1.0, (10,3))\n",
        "b0 = np.array([1,2,3]).reshape((-1,1))\n",
        "#\n",
        "# The data may be a DataFrame.\n",
        "# X1 = pd.DataFrame(X1)\n",
        "# X2 = pd.DataFrame(X2)\n",
        "#\n",
        "X = tf.placeholder(tf.float32, shape=(None,3))       # \"None\" means that the number of rows is still undefined. \n",
        "b = tf.placeholder(tf.float32, shape=(3,1))\n",
        "y = tf.matmul(X, b)\n",
        "with tf.Session() as sess:\n",
        "    print(sess.run(y, feed_dict={X:X1, b:b0}))       # Feed in the data.\n",
        "    print(\"\\n\")\n",
        "    print(sess.run(y, feed_dict={X:X2, b:b0}))       # Feed in the data."
      ],
      "execution_count": 23,
      "outputs": [
        {
          "output_type": "stream",
          "name": "stdout",
          "text": [
            "[[1.9493022]\n",
            " [3.259572 ]\n",
            " [3.7932193]]\n",
            "\n",
            "\n",
            "[[-5.1895514 ]\n",
            " [-0.47591597]\n",
            " [ 0.76363635]\n",
            " [ 4.6815934 ]\n",
            " [ 6.4029546 ]\n",
            " [-5.6862936 ]\n",
            " [-4.963093  ]\n",
            " [-8.809272  ]\n",
            " [-5.3064833 ]\n",
            " [ 3.0540478 ]]\n"
          ]
        }
      ]
    }
  ]
}